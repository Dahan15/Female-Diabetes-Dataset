{
  "metadata": {
    "kernelspec": {
      "language": "python",
      "display_name": "Python 3",
      "name": "python3"
    },
    "language_info": {
      "name": "python",
      "version": "3.10.13",
      "mimetype": "text/x-python",
      "codemirror_mode": {
        "name": "ipython",
        "version": 3
      },
      "pygments_lexer": "ipython3",
      "nbconvert_exporter": "python",
      "file_extension": ".py"
    },
    "kaggle": {
      "accelerator": "none",
      "dataSources": [
        {
          "sourceId": 7817973,
          "sourceType": "datasetVersion",
          "datasetId": 4580286
        }
      ],
      "dockerImageVersionId": 30698,
      "isInternetEnabled": true,
      "language": "python",
      "sourceType": "notebook",
      "isGpuEnabled": false
    },
    "colab": {
      "name": "Female Diabetes Dataset",
      "provenance": [],
      "include_colab_link": true
    }
  },
  "nbformat_minor": 0,
  "nbformat": 4,
  "cells": [
    {
      "cell_type": "markdown",
      "metadata": {
        "id": "view-in-github",
        "colab_type": "text"
      },
      "source": [
        "<a href=\"https://colab.research.google.com/github/Dahan15/Female-Diabetes-Dataset/blob/main/Female_Diabetes_Dataset.ipynb\" target=\"_parent\"><img src=\"https://colab.research.google.com/assets/colab-badge.svg\" alt=\"Open In Colab\"/></a>"
      ]
    },
    {
      "source": [
        "# IMPORTANT: RUN THIS CELL IN ORDER TO IMPORT YOUR KAGGLE DATA SOURCES,\n",
        "# THEN FEEL FREE TO DELETE THIS CELL.\n",
        "# NOTE: THIS NOTEBOOK ENVIRONMENT DIFFERS FROM KAGGLE'S PYTHON\n",
        "# ENVIRONMENT SO THERE MAY BE MISSING LIBRARIES USED BY YOUR\n",
        "# NOTEBOOK.\n",
        "import kagglehub\n",
        "sakshisatre_female_diabetes_dataset_path = kagglehub.dataset_download('sakshisatre/female-diabetes-dataset')\n",
        "\n",
        "print('Data source import complete.')\n"
      ],
      "metadata": {
        "id": "apdsey9nTNyq"
      },
      "cell_type": "code",
      "outputs": [],
      "execution_count": null
    },
    {
      "cell_type": "code",
      "source": [
        "import numpy as np\n",
        "import pandas as pd\n",
        "import seaborn as sns\n",
        "import matplotlib.pyplot as plt\n",
        "from sklearn.model_selection import train_test_split\n",
        "\n",
        "import os\n",
        "for dirname, _, filenames in os.walk('/kaggle/input'):\n",
        "    for filename in filenames:\n",
        "        print(os.path.join(dirname, filename))\n",
        "\n",
        "# to avoid warnings\n",
        "import warnings\n",
        "warnings.filterwarnings('ignore')"
      ],
      "metadata": {
        "_uuid": "8f2839f25d086af736a60e9eeb907d3b93b6e0e5",
        "_cell_guid": "b1076dfc-b9ad-4769-8c92-a6c4dae69d19",
        "execution": {
          "iopub.status.busy": "2024-05-09T10:32:49.850278Z",
          "iopub.execute_input": "2024-05-09T10:32:49.850837Z",
          "iopub.status.idle": "2024-05-09T10:32:49.862018Z",
          "shell.execute_reply.started": "2024-05-09T10:32:49.850793Z",
          "shell.execute_reply": "2024-05-09T10:32:49.860463Z"
        },
        "trusted": true,
        "id": "qm6RJvu1TNyu"
      },
      "execution_count": null,
      "outputs": []
    },
    {
      "cell_type": "code",
      "source": [
        "import tensorflow as tf\n",
        "\n",
        "from tensorflow import keras\n",
        "from tensorflow.keras import layers\n",
        "from sklearn.metrics import classification_report,accuracy_score"
      ],
      "metadata": {
        "execution": {
          "iopub.status.busy": "2024-05-09T10:32:49.86382Z",
          "iopub.execute_input": "2024-05-09T10:32:49.864232Z",
          "iopub.status.idle": "2024-05-09T10:32:49.879117Z",
          "shell.execute_reply.started": "2024-05-09T10:32:49.864199Z",
          "shell.execute_reply": "2024-05-09T10:32:49.877433Z"
        },
        "trusted": true,
        "id": "RIUgrEg9TNyv"
      },
      "execution_count": null,
      "outputs": []
    },
    {
      "cell_type": "code",
      "source": [
        "# Read Data\n",
        "df = pd.read_csv(\"/kaggle/input/female-diabetes-dataset/Diabetes.csv\")\n",
        "df.head()"
      ],
      "metadata": {
        "jupyter": {
          "source_hidden": true
        },
        "execution": {
          "iopub.status.busy": "2024-05-09T10:32:49.880768Z",
          "iopub.execute_input": "2024-05-09T10:32:49.881215Z",
          "iopub.status.idle": "2024-05-09T10:32:49.916228Z",
          "shell.execute_reply.started": "2024-05-09T10:32:49.881184Z",
          "shell.execute_reply": "2024-05-09T10:32:49.915106Z"
        },
        "trusted": true,
        "id": "bCOP9jIETNyv"
      },
      "execution_count": null,
      "outputs": []
    },
    {
      "cell_type": "code",
      "source": [
        "df.isna().sum()"
      ],
      "metadata": {
        "execution": {
          "iopub.status.busy": "2024-05-09T10:32:49.917838Z",
          "iopub.execute_input": "2024-05-09T10:32:49.91951Z",
          "iopub.status.idle": "2024-05-09T10:32:49.933523Z",
          "shell.execute_reply.started": "2024-05-09T10:32:49.919454Z",
          "shell.execute_reply": "2024-05-09T10:32:49.93154Z"
        },
        "trusted": true,
        "id": "Vl7UHsIZTNyw"
      },
      "execution_count": null,
      "outputs": []
    },
    {
      "cell_type": "code",
      "source": [
        "x=df.drop(columns=[\"triceps\",\"diabetes\"])\n",
        "y=df[\"diabetes\"]\n",
        "x.head()"
      ],
      "metadata": {
        "execution": {
          "iopub.status.busy": "2024-05-09T10:32:49.937036Z",
          "iopub.execute_input": "2024-05-09T10:32:49.937647Z",
          "iopub.status.idle": "2024-05-09T10:32:49.960981Z",
          "shell.execute_reply.started": "2024-05-09T10:32:49.937612Z",
          "shell.execute_reply": "2024-05-09T10:32:49.958926Z"
        },
        "trusted": true,
        "id": "DOIez1AyTNyx"
      },
      "execution_count": null,
      "outputs": []
    },
    {
      "cell_type": "code",
      "source": [
        "x_train,x_test,y_lebleTr,y_lebleTs=train_test_split(x,y,stratify=y,train_size=0.8,random_state=10)"
      ],
      "metadata": {
        "execution": {
          "iopub.status.busy": "2024-05-09T10:32:49.962843Z",
          "iopub.execute_input": "2024-05-09T10:32:49.963206Z",
          "iopub.status.idle": "2024-05-09T10:32:49.974853Z",
          "shell.execute_reply.started": "2024-05-09T10:32:49.96318Z",
          "shell.execute_reply": "2024-05-09T10:32:49.97407Z"
        },
        "trusted": true,
        "id": "4NtFlQy_TNyx"
      },
      "execution_count": null,
      "outputs": []
    },
    {
      "cell_type": "code",
      "source": [
        "import tensorflow as tf\n",
        "from tensorflow import keras\n",
        "from tensorflow.keras import Sequential\n",
        "from tensorflow.keras.layers import Dense"
      ],
      "metadata": {
        "execution": {
          "iopub.status.busy": "2024-05-09T10:32:49.97596Z",
          "iopub.execute_input": "2024-05-09T10:32:49.976287Z",
          "iopub.status.idle": "2024-05-09T10:32:49.988292Z",
          "shell.execute_reply.started": "2024-05-09T10:32:49.976264Z",
          "shell.execute_reply": "2024-05-09T10:32:49.986179Z"
        },
        "trusted": true,
        "id": "j-pqUMK_TNyy"
      },
      "execution_count": null,
      "outputs": []
    },
    {
      "cell_type": "code",
      "source": [
        "model = keras.Sequential([\n",
        "    layers.Dense(500, activation='tanh', input_shape=[len(x_train.keys())]),\n",
        "    #layers.Dense(256, activation='tanh'),\n",
        "    layers.Dense(1, activation='sigmoid')\n",
        "  ])\n",
        "\n",
        "\n",
        "model.compile(loss='mse',optimizer=tf.keras.optimizers.Adam(0.00001),metrics=['accuracy'])"
      ],
      "metadata": {
        "execution": {
          "iopub.status.busy": "2024-05-09T10:32:49.990575Z",
          "iopub.execute_input": "2024-05-09T10:32:49.991151Z",
          "iopub.status.idle": "2024-05-09T10:32:50.033521Z",
          "shell.execute_reply.started": "2024-05-09T10:32:49.991099Z",
          "shell.execute_reply": "2024-05-09T10:32:50.031721Z"
        },
        "trusted": true,
        "id": "8fYKmeLWTNyy"
      },
      "execution_count": null,
      "outputs": []
    },
    {
      "cell_type": "code",
      "source": [
        "model.summary()"
      ],
      "metadata": {
        "execution": {
          "iopub.status.busy": "2024-05-09T10:32:50.034897Z",
          "iopub.execute_input": "2024-05-09T10:32:50.035298Z",
          "iopub.status.idle": "2024-05-09T10:32:50.061507Z",
          "shell.execute_reply.started": "2024-05-09T10:32:50.035261Z",
          "shell.execute_reply": "2024-05-09T10:32:50.05869Z"
        },
        "trusted": true,
        "id": "0zqNPlqOTNyz"
      },
      "execution_count": null,
      "outputs": []
    },
    {
      "cell_type": "code",
      "source": [
        "early_stop=keras.callbacks.EarlyStopping(monitor='loss', patience=10)\n",
        "\n",
        "history =model.fit(\n",
        "    x_train, y_lebleTr, epochs=800, callbacks=[early_stop])"
      ],
      "metadata": {
        "execution": {
          "iopub.status.busy": "2024-05-09T10:32:50.063294Z",
          "iopub.execute_input": "2024-05-09T10:32:50.063959Z"
        },
        "trusted": true,
        "id": "tNqsJ1CdTNyz"
      },
      "execution_count": null,
      "outputs": []
    },
    {
      "cell_type": "code",
      "source": [
        "eval_model=model.evaluate(x_test, y_lebleTs)\n",
        "eval_model"
      ],
      "metadata": {
        "execution": {
          "iopub.status.busy": "2024-05-09T10:37:48.077309Z",
          "iopub.execute_input": "2024-05-09T10:37:48.07779Z",
          "iopub.status.idle": "2024-05-09T10:37:48.225178Z",
          "shell.execute_reply.started": "2024-05-09T10:37:48.077754Z",
          "shell.execute_reply": "2024-05-09T10:37:48.224235Z"
        },
        "trusted": true,
        "id": "OoGoJ43dTNy0"
      },
      "execution_count": null,
      "outputs": []
    },
    {
      "cell_type": "code",
      "source": [
        "# Plot history for accuracy\n",
        "plt.plot(history.history['accuracy'])\n",
        "plt.title('model accuracy')\n",
        "plt.ylabel('accuracy')\n",
        "plt.xlabel('epoch')\n",
        "plt.legend(['Train'], loc='lower right')\n",
        "plt.show()\n",
        "# Plot history for loss\n",
        "plt.plot(history.history['loss'])\n",
        "plt.title('model loss')\n",
        "plt.ylabel('loss')\n",
        "plt.xlabel('epoch')\n",
        "plt.legend(['Train'], loc='upper right')\n",
        "plt.show()"
      ],
      "metadata": {
        "execution": {
          "iopub.status.busy": "2024-05-09T10:37:51.381721Z",
          "iopub.execute_input": "2024-05-09T10:37:51.382288Z",
          "iopub.status.idle": "2024-05-09T10:37:51.828405Z",
          "shell.execute_reply.started": "2024-05-09T10:37:51.382238Z",
          "shell.execute_reply": "2024-05-09T10:37:51.827233Z"
        },
        "trusted": true,
        "id": "fBXzZcN6TNy0"
      },
      "execution_count": null,
      "outputs": []
    }
  ]
}